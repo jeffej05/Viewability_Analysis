{
 "cells": [
  {
   "cell_type": "code",
   "execution_count": 86,
   "metadata": {},
   "outputs": [],
   "source": [
    "import pandas as pd\n",
    "import numpy as np \n",
    "import os\n",
    "import scipy\n",
    "from scipy import stats\n",
    "import matplotlib.pyplot as plt\n",
    "%matplotlib inline"
   ]
  },
  {
   "cell_type": "code",
   "execution_count": 87,
   "metadata": {},
   "outputs": [],
   "source": [
    "os.getcwd()\n",
    "os.chdir('/Users/Jeffrey.Lu@ibm.com/Desktop')"
   ]
  },
  {
   "cell_type": "code",
   "execution_count": 88,
   "metadata": {},
   "outputs": [],
   "source": [
    "#Importing Ad Size 1 data\n",
    "df = pd.read_csv('Viewability Ad Size 1.csv')"
   ]
  },
  {
   "cell_type": "code",
   "execution_count": 89,
   "metadata": {},
   "outputs": [],
   "source": [
    "df_before = df.iloc[:40]"
   ]
  },
  {
   "cell_type": "code",
   "execution_count": 90,
   "metadata": {},
   "outputs": [],
   "source": [
    "df_after = df.iloc[40:]"
   ]
  },
  {
   "cell_type": "code",
   "execution_count": 91,
   "metadata": {},
   "outputs": [
    {
     "name": "stderr",
     "output_type": "stream",
     "text": [
      "/anaconda3/lib/python3.7/site-packages/ipykernel_launcher.py:2: SettingWithCopyWarning: \n",
      "A value is trying to be set on a copy of a slice from a DataFrame.\n",
      "Try using .loc[row_indexer,col_indexer] = value instead\n",
      "\n",
      "See the caveats in the documentation: http://pandas.pydata.org/pandas-docs/stable/indexing.html#indexing-view-versus-copy\n",
      "  \n"
     ]
    }
   ],
   "source": [
    "#Formatting percentages to float type\n",
    "df_before['In-View Rate'] = df_before['In-View Rate'].str.replace('%',\"\").astype('float')"
   ]
  },
  {
   "cell_type": "code",
   "execution_count": 92,
   "metadata": {},
   "outputs": [
    {
     "name": "stderr",
     "output_type": "stream",
     "text": [
      "/anaconda3/lib/python3.7/site-packages/ipykernel_launcher.py:1: SettingWithCopyWarning: \n",
      "A value is trying to be set on a copy of a slice from a DataFrame.\n",
      "Try using .loc[row_indexer,col_indexer] = value instead\n",
      "\n",
      "See the caveats in the documentation: http://pandas.pydata.org/pandas-docs/stable/indexing.html#indexing-view-versus-copy\n",
      "  \"\"\"Entry point for launching an IPython kernel.\n"
     ]
    }
   ],
   "source": [
    "df_after['In-View Rate'] = df_after['In-View Rate'].str.replace('%',\"\").astype('float')"
   ]
  },
  {
   "cell_type": "code",
   "execution_count": 93,
   "metadata": {},
   "outputs": [
    {
     "name": "stderr",
     "output_type": "stream",
     "text": [
      "/anaconda3/lib/python3.7/site-packages/ipykernel_launcher.py:2: SettingWithCopyWarning: \n",
      "A value is trying to be set on a copy of a slice from a DataFrame.\n",
      "Try using .loc[row_indexer,col_indexer] = value instead\n",
      "\n",
      "See the caveats in the documentation: http://pandas.pydata.org/pandas-docs/stable/indexing.html#indexing-view-versus-copy\n",
      "  \n"
     ]
    }
   ],
   "source": [
    "#Checking for outliers\n",
    "df_before['In-View Rate Before'] = df_before['In-View Rate']"
   ]
  },
  {
   "cell_type": "code",
   "execution_count": 94,
   "metadata": {},
   "outputs": [
    {
     "name": "stderr",
     "output_type": "stream",
     "text": [
      "/anaconda3/lib/python3.7/site-packages/ipykernel_launcher.py:1: SettingWithCopyWarning: \n",
      "A value is trying to be set on a copy of a slice from a DataFrame.\n",
      "Try using .loc[row_indexer,col_indexer] = value instead\n",
      "\n",
      "See the caveats in the documentation: http://pandas.pydata.org/pandas-docs/stable/indexing.html#indexing-view-versus-copy\n",
      "  \"\"\"Entry point for launching an IPython kernel.\n"
     ]
    }
   ],
   "source": [
    "df_after['In-View Rate After'] = df_after['In-View Rate']"
   ]
  },
  {
   "cell_type": "code",
   "execution_count": 95,
   "metadata": {},
   "outputs": [],
   "source": [
    "df_merge = pd.DataFrame(df_before['In-View Rate Before'])"
   ]
  },
  {
   "cell_type": "code",
   "execution_count": 96,
   "metadata": {},
   "outputs": [],
   "source": [
    "df_merge['In-View Rate After'] = list(df_after['In-View Rate After'])"
   ]
  },
  {
   "cell_type": "code",
   "execution_count": 97,
   "metadata": {},
   "outputs": [
    {
     "data": {
      "text/html": [
       "<div>\n",
       "<style scoped>\n",
       "    .dataframe tbody tr th:only-of-type {\n",
       "        vertical-align: middle;\n",
       "    }\n",
       "\n",
       "    .dataframe tbody tr th {\n",
       "        vertical-align: top;\n",
       "    }\n",
       "\n",
       "    .dataframe thead th {\n",
       "        text-align: right;\n",
       "    }\n",
       "</style>\n",
       "<table border=\"1\" class=\"dataframe\">\n",
       "  <thead>\n",
       "    <tr style=\"text-align: right;\">\n",
       "      <th></th>\n",
       "      <th>In-View Rate Before</th>\n",
       "      <th>In-View Rate After</th>\n",
       "    </tr>\n",
       "  </thead>\n",
       "  <tbody>\n",
       "    <tr>\n",
       "      <th>0</th>\n",
       "      <td>85.60</td>\n",
       "      <td>77.27</td>\n",
       "    </tr>\n",
       "    <tr>\n",
       "      <th>1</th>\n",
       "      <td>83.87</td>\n",
       "      <td>78.46</td>\n",
       "    </tr>\n",
       "    <tr>\n",
       "      <th>2</th>\n",
       "      <td>83.89</td>\n",
       "      <td>77.70</td>\n",
       "    </tr>\n",
       "    <tr>\n",
       "      <th>3</th>\n",
       "      <td>84.11</td>\n",
       "      <td>76.86</td>\n",
       "    </tr>\n",
       "    <tr>\n",
       "      <th>4</th>\n",
       "      <td>85.05</td>\n",
       "      <td>76.59</td>\n",
       "    </tr>\n",
       "  </tbody>\n",
       "</table>\n",
       "</div>"
      ],
      "text/plain": [
       "   In-View Rate Before  In-View Rate After\n",
       "0                85.60               77.27\n",
       "1                83.87               78.46\n",
       "2                83.89               77.70\n",
       "3                84.11               76.86\n",
       "4                85.05               76.59"
      ]
     },
     "execution_count": 97,
     "metadata": {},
     "output_type": "execute_result"
    }
   ],
   "source": [
    "df_merge.head()"
   ]
  },
  {
   "cell_type": "code",
   "execution_count": 98,
   "metadata": {},
   "outputs": [
    {
     "data": {
      "text/plain": [
       "<matplotlib.axes._subplots.AxesSubplot at 0x11978ad68>"
      ]
     },
     "execution_count": 98,
     "metadata": {},
     "output_type": "execute_result"
    },
    {
     "data": {
      "image/png": "[encoded data removed]",
      "text/plain": [
       "<Figure size 432x288 with 1 Axes>"
      ]
     },
     "metadata": {
      "needs_background": "light"
     },
     "output_type": "display_data"
    }
   ],
   "source": [
    "#Checking for significant outliers\n",
    "df_merge[['In-View Rate Before', 'In-View Rate After']].plot(kind='box')"
   ]
  },
  {
   "cell_type": "code",
   "execution_count": 99,
   "metadata": {},
   "outputs": [
    {
     "data": {
      "text/plain": [
       "<matplotlib.axes._subplots.AxesSubplot at 0x119a6c940>"
      ]
     },
     "execution_count": 99,
     "metadata": {},
     "output_type": "execute_result"
    },
    {
     "data": {
      "image/png": "[encoded data removed]",
      "text/plain": [
       "<Figure size 432x288 with 1 Axes>"
      ]
     },
     "metadata": {
      "needs_background": "light"
     },
     "output_type": "display_data"
    }
   ],
   "source": [
    "#Histogram normality check \n",
    "\n",
    "df_merge['In-View Rate Before'].plot(kind='hist', title= 'Viewaiblity Difference Histogram')\n",
    "\n",
    "df_merge['In-View Rate After'].plot(kind='hist', title= 'Viewaiblity Difference Histogram')"
   ]
  },
  {
   "cell_type": "code",
   "execution_count": 100,
   "metadata": {},
   "outputs": [
    {
     "data": {
      "text/plain": [
       "((array([-2.11583547, -1.7314906 , -1.50271646, -1.33321868, -1.19520249,\n",
       "         -1.07683093, -0.97189321, -0.87669641, -0.78885043, -0.70670905,\n",
       "         -0.62908229, -0.55507545, -0.48399287, -0.41527745, -0.34847074,\n",
       "         -0.28318561, -0.2190868 , -0.15587657, -0.09328369, -0.03105452,\n",
       "          0.03105452,  0.09328369,  0.15587657,  0.2190868 ,  0.28318561,\n",
       "          0.34847074,  0.41527745,  0.48399287,  0.55507545,  0.62908229,\n",
       "          0.70670905,  0.78885043,  0.87669641,  0.97189321,  1.07683093,\n",
       "          1.19520249,  1.33321868,  1.50271646,  1.7314906 ,  2.11583547]),\n",
       "  array([73.41, 74.34, 74.43, 74.82, 75.81, 76.59, 76.86, 77.27, 77.31,\n",
       "         77.42, 77.7 , 77.97, 78.09, 78.11, 78.22, 78.26, 78.38, 78.39,\n",
       "         78.46, 78.46, 78.47, 78.97, 78.98, 79.13, 79.23, 79.26, 79.28,\n",
       "         79.34, 79.45, 79.46, 79.49, 79.51, 79.65, 79.7 , 79.84, 79.91,\n",
       "         80.02, 80.13, 80.94, 81.15])),\n",
       " (1.73805306586437, 78.30525, 0.9508678427393935))"
      ]
     },
     "execution_count": 100,
     "metadata": {},
     "output_type": "execute_result"
    },
    {
     "data": {
      "image/png": "[encoded data removed]",
      "text/plain": [
       "<Figure size 432x288 with 1 Axes>"
      ]
     },
     "metadata": {
      "needs_background": "light"
     },
     "output_type": "display_data"
    }
   ],
   "source": [
    "#QQ-Plot normality check\n",
    "\n",
    "stats.probplot(df_merge['In-View Rate Before'], plot= plt)\n",
    "\n",
    "stats.probplot(df_merge['In-View Rate After'], plot= plt)"
   ]
  },
  {
   "cell_type": "code",
   "execution_count": 154,
   "metadata": {},
   "outputs": [
    {
     "data": {
      "text/plain": [
       "Ttest_indResult(statistic=-2.359381633521662, pvalue=0.022854638797328988)"
      ]
     },
     "execution_count": 154,
     "metadata": {},
     "output_type": "execute_result"
    }
   ],
   "source": [
    "#Welch's T-test was used to test differences between means between the two series with unequal vairances\n",
    "result_welch1 = stats.ttest_ind(df_merge['In-View Rate Before'], df_merge['In-View Rate After'], equal_var = False)\n",
    "result_welch1"
   ]
  },
  {
   "cell_type": "code",
   "execution_count": 155,
   "metadata": {},
   "outputs": [
    {
     "name": "stdout",
     "output_type": "stream",
     "text": [
      "Viewability Percentages before and after 30 second ad-refresh implementation are significantly different at a 95% significance level.\n"
     ]
    }
   ],
   "source": [
    "#Welch's T-test interpretation\n",
    "if result_welch1[1]>0.05:\n",
    "    print('Viewability Percentages for ads before and after the 30 second refresh implementation are not statistically different.')\n",
    "else:\n",
    "    print('Viewability Percentages before and after the 30 second ad-refresh implementation are significantly different at a 95% significance level.')"
   ]
  },
  {
   "cell_type": "code",
   "execution_count": 156,
   "metadata": {},
   "outputs": [
    {
     "data": {
      "text/plain": [
       "WilcoxonResult(statistic=275.0, pvalue=0.034794613137737025)"
      ]
     },
     "execution_count": 156,
     "metadata": {},
     "output_type": "execute_result"
    }
   ],
   "source": [
    "#Wilcoxon Signed-Rank Test (one-sided-\"Less\") was used to test if the median value is significantly different pre vs. post refresh implementation\n",
    "result_wilcoxon1 = scipy.stats.wilcoxon(df_merge['In-View Rate Before'], df_merge['In-View Rate After'], alternative = 'less')\n",
    "result_wilcoxon1"
   ]
  },
  {
   "cell_type": "code",
   "execution_count": 161,
   "metadata": {},
   "outputs": [
    {
     "name": "stdout",
     "output_type": "stream",
     "text": [
      "Viewability Percentages for pre 30 second refresh ads are statistically lower than post 30 second refresh ads.\n"
     ]
    }
   ],
   "source": [
    "#Wilcoxon Signed-Rank Test interpretation\n",
    "if result_wilcoxon[1]>0.05:\n",
    "    print('Viewability Percentages for pre 30 second refresh ads are statistically similar to post 30 second refresh ads.')\n",
    "else:\n",
    "    print('Viewability Percentages for pre 30 second refresh ads are statistically lower than post 30 second refresh ads.')\n"
   ]
  },
  {
   "cell_type": "code",
   "execution_count": 135,
   "metadata": {},
   "outputs": [],
   "source": [
    "#Importing Ad Size 2 data\n",
    "df2 = pd.read_csv('Viewability Ad Size 2.csv')"
   ]
  },
  {
   "cell_type": "code",
   "execution_count": 136,
   "metadata": {},
   "outputs": [],
   "source": [
    "df_before2 = df2.iloc[:40]"
   ]
  },
  {
   "cell_type": "code",
   "execution_count": 137,
   "metadata": {},
   "outputs": [],
   "source": [
    "df_after2 = df2.iloc[40:]"
   ]
  },
  {
   "cell_type": "code",
   "execution_count": 138,
   "metadata": {},
   "outputs": [
    {
     "name": "stderr",
     "output_type": "stream",
     "text": [
      "/anaconda3/lib/python3.7/site-packages/ipykernel_launcher.py:2: SettingWithCopyWarning: \n",
      "A value is trying to be set on a copy of a slice from a DataFrame.\n",
      "Try using .loc[row_indexer,col_indexer] = value instead\n",
      "\n",
      "See the caveats in the documentation: http://pandas.pydata.org/pandas-docs/stable/indexing.html#indexing-view-versus-copy\n",
      "  \n"
     ]
    }
   ],
   "source": [
    "#Formatting Percent to float type\n",
    "df_before2['In-View Rate'] = df_before2['In-View Rate'].str.replace('%',\"\").astype('float')"
   ]
  },
  {
   "cell_type": "code",
   "execution_count": 139,
   "metadata": {},
   "outputs": [
    {
     "name": "stderr",
     "output_type": "stream",
     "text": [
      "/anaconda3/lib/python3.7/site-packages/ipykernel_launcher.py:1: SettingWithCopyWarning: \n",
      "A value is trying to be set on a copy of a slice from a DataFrame.\n",
      "Try using .loc[row_indexer,col_indexer] = value instead\n",
      "\n",
      "See the caveats in the documentation: http://pandas.pydata.org/pandas-docs/stable/indexing.html#indexing-view-versus-copy\n",
      "  \"\"\"Entry point for launching an IPython kernel.\n"
     ]
    }
   ],
   "source": [
    "df_after2['In-View Rate'] = df_after2['In-View Rate'].str.replace('%',\"\").astype('float')"
   ]
  },
  {
   "cell_type": "code",
   "execution_count": 140,
   "metadata": {},
   "outputs": [
    {
     "name": "stderr",
     "output_type": "stream",
     "text": [
      "/anaconda3/lib/python3.7/site-packages/ipykernel_launcher.py:2: SettingWithCopyWarning: \n",
      "A value is trying to be set on a copy of a slice from a DataFrame.\n",
      "Try using .loc[row_indexer,col_indexer] = value instead\n",
      "\n",
      "See the caveats in the documentation: http://pandas.pydata.org/pandas-docs/stable/indexing.html#indexing-view-versus-copy\n",
      "  \n"
     ]
    }
   ],
   "source": [
    "#Checking for outliers\n",
    "df_before2['In-View Rate Before'] = df_before2['In-View Rate']"
   ]
  },
  {
   "cell_type": "code",
   "execution_count": 141,
   "metadata": {},
   "outputs": [
    {
     "name": "stderr",
     "output_type": "stream",
     "text": [
      "/anaconda3/lib/python3.7/site-packages/ipykernel_launcher.py:1: SettingWithCopyWarning: \n",
      "A value is trying to be set on a copy of a slice from a DataFrame.\n",
      "Try using .loc[row_indexer,col_indexer] = value instead\n",
      "\n",
      "See the caveats in the documentation: http://pandas.pydata.org/pandas-docs/stable/indexing.html#indexing-view-versus-copy\n",
      "  \"\"\"Entry point for launching an IPython kernel.\n"
     ]
    }
   ],
   "source": [
    "df_after2['In-View Rate After'] = df_after2['In-View Rate']"
   ]
  },
  {
   "cell_type": "code",
   "execution_count": 142,
   "metadata": {},
   "outputs": [],
   "source": [
    "df_merge2 = pd.DataFrame(df_before2['In-View Rate Before'])"
   ]
  },
  {
   "cell_type": "code",
   "execution_count": 143,
   "metadata": {},
   "outputs": [],
   "source": [
    "df_merge2['In-View Rate After'] = list(df_after2['In-View Rate After'])"
   ]
  },
  {
   "cell_type": "code",
   "execution_count": 144,
   "metadata": {},
   "outputs": [
    {
     "data": {
      "text/plain": [
       "<matplotlib.axes._subplots.AxesSubplot at 0x119bffe80>"
      ]
     },
     "execution_count": 144,
     "metadata": {},
     "output_type": "execute_result"
    },
    {
     "data": {
      "image/png": "[encoded data removed]",
      "text/plain": [
       "<Figure size 432x288 with 1 Axes>"
      ]
     },
     "metadata": {
      "needs_background": "light"
     },
     "output_type": "display_data"
    }
   ],
   "source": [
    "#Checking for significant outliers\n",
    "df_merge2[['In-View Rate Before', 'In-View Rate After']].plot(kind='box')"
   ]
  },
  {
   "cell_type": "code",
   "execution_count": 145,
   "metadata": {},
   "outputs": [
    {
     "data": {
      "text/plain": [
       "<matplotlib.axes._subplots.AxesSubplot at 0x119dbe160>"
      ]
     },
     "execution_count": 145,
     "metadata": {},
     "output_type": "execute_result"
    },
    {
     "data": {
      "image/png": "[encoded data removed]",
      "text/plain": [
       "<Figure size 432x288 with 1 Axes>"
      ]
     },
     "metadata": {
      "needs_background": "light"
     },
     "output_type": "display_data"
    }
   ],
   "source": [
    "#histogram normality check\n",
    "\n",
    "df_merge2['In-View Rate Before'].plot(kind='hist', title= 'Viewaiblity Difference Histogram')\n",
    "\n",
    "df_merge2['In-View Rate After'].plot(kind='hist', title= 'Viewaiblity Difference Histogram')\n"
   ]
  },
  {
   "cell_type": "code",
   "execution_count": 146,
   "metadata": {},
   "outputs": [
    {
     "data": {
      "text/plain": [
       "((array([-2.11583547, -1.7314906 , -1.50271646, -1.33321868, -1.19520249,\n",
       "         -1.07683093, -0.97189321, -0.87669641, -0.78885043, -0.70670905,\n",
       "         -0.62908229, -0.55507545, -0.48399287, -0.41527745, -0.34847074,\n",
       "         -0.28318561, -0.2190868 , -0.15587657, -0.09328369, -0.03105452,\n",
       "          0.03105452,  0.09328369,  0.15587657,  0.2190868 ,  0.28318561,\n",
       "          0.34847074,  0.41527745,  0.48399287,  0.55507545,  0.62908229,\n",
       "          0.70670905,  0.78885043,  0.87669641,  0.97189321,  1.07683093,\n",
       "          1.19520249,  1.33321868,  1.50271646,  1.7314906 ,  2.11583547]),\n",
       "  array([59.4 , 60.05, 61.17, 63.23, 64.94, 67.82, 68.32, 68.47, 68.55,\n",
       "         68.63, 69.11, 69.22, 69.49, 69.59, 69.62, 69.65, 69.82, 69.86,\n",
       "         69.91, 69.92, 70.02, 70.36, 70.37, 70.41, 70.46, 70.53, 70.66,\n",
       "         70.81, 70.96, 71.01, 71.12, 71.14, 71.43, 71.47, 71.52, 71.68,\n",
       "         71.77, 71.94, 71.95, 72.27])),\n",
       " (2.7540313262749483, 69.21624999999999, 0.8509289365169105))"
      ]
     },
     "execution_count": 146,
     "metadata": {},
     "output_type": "execute_result"
    },
    {
     "data": {
      "image/png": "[encoded data removed]",
      "text/plain": [
       "<Figure size 432x288 with 1 Axes>"
      ]
     },
     "metadata": {
      "needs_background": "light"
     },
     "output_type": "display_data"
    }
   ],
   "source": [
    "#QQ-Plot normality check although it has been mentioned that normality can be assumed when n >= 30\n",
    "\n",
    "stats.probplot(df_merge2['In-View Rate Before'], plot= plt)\n",
    "\n",
    "stats.probplot(df_merge2['In-View Rate After'], plot= plt)\n"
   ]
  },
  {
   "cell_type": "code",
   "execution_count": 157,
   "metadata": {},
   "outputs": [
    {
     "data": {
      "text/plain": [
       "Ttest_indResult(statistic=-2.5835360054731313, pvalue=0.013348979852348439)"
      ]
     },
     "execution_count": 157,
     "metadata": {},
     "output_type": "execute_result"
    }
   ],
   "source": [
    "#Welch's T-test was used to test differences between means between the two series since the two series suggests unequal variances\n",
    "result_welch2 = stats.ttest_ind(df_merge2['In-View Rate Before'], df_merge2['In-View Rate After'], equal_var = False)\n",
    "result_welch2"
   ]
  },
  {
   "cell_type": "code",
   "execution_count": 163,
   "metadata": {},
   "outputs": [
    {
     "name": "stdout",
     "output_type": "stream",
     "text": [
      "Viewability Percentages before and after the 30 second ad-refresh implementation are significantly different at a 95% significance level.\n"
     ]
    }
   ],
   "source": [
    "#Welch's T-test interpretation\n",
    "if result_welch2[1]>0.05:\n",
    "    print('Viewability Percentages for ads before and after the 30 second refresh implementation are not statistically different.')\n",
    "else:\n",
    "    print('Viewability Percentages before and after the 30 second ad-refresh implementation are significantly different at a 95% significance level.')\n",
    "    "
   ]
  },
  {
   "cell_type": "code",
   "execution_count": 159,
   "metadata": {},
   "outputs": [
    {
     "data": {
      "text/plain": [
       "WilcoxonResult(statistic=253.0, pvalue=0.017416964334850762)"
      ]
     },
     "execution_count": 159,
     "metadata": {},
     "output_type": "execute_result"
    }
   ],
   "source": [
    "#Wilcoxon Signed-Rank Test (one-sided-\"Less\") was used to test if the median value is significantly different pre vs. post refresh since one series does not show a normal distribution\n",
    "result_wilcoxon2 = scipy.stats.wilcoxon(df_merge2['In-View Rate Before'], df_merge2['In-View Rate After'], alternative = 'less')\n",
    "result_wilcoxon2"
   ]
  },
  {
   "cell_type": "code",
   "execution_count": 162,
   "metadata": {},
   "outputs": [
    {
     "name": "stdout",
     "output_type": "stream",
     "text": [
      "Viewability Percentages for pre 30 second refresh ads are statistically lower than post 30 second refresh ads.\n"
     ]
    }
   ],
   "source": [
    "#Wilcoxon Signed-Rank Test interpretation\n",
    "if result_wilcoxon2[1]>0.05:\n",
    "    print('Viewability Percentages for pre 30 second refresh ads are statistically similar to post 30 second refresh ads.')\n",
    "else:\n",
    "    print('Viewability Percentages for pre 30 second refresh ads are statistically lower than post 30 second refresh ads.')\n",
    "\n"
   ]
  },
  {
   "cell_type": "code",
   "execution_count": null,
   "metadata": {},
   "outputs": [],
   "source": []
  }
 ],
 "metadata": {
  "kernelspec": {
   "display_name": "Python 3",
   "language": "python",
   "name": "python3"
  },
  "language_info": {
   "codemirror_mode": {
    "name": "ipython",
    "version": 3
   },
   "file_extension": ".py",
   "mimetype": "text/x-python",
   "name": "python",
   "nbconvert_exporter": "python",
   "pygments_lexer": "ipython3",
   "version": "3.7.3"
  }
 },
 "nbformat": 4,
 "nbformat_minor": 2
}
